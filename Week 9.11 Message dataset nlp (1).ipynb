{
 "cells": [
  {
   "cell_type": "code",
   "execution_count": 1,
   "id": "f0d6abe8",
   "metadata": {},
   "outputs": [],
   "source": [
    "import pandas as pd\n",
    "import numpy as np\n",
    "import warnings\n",
    "warnings.filterwarnings(\"ignore\")"
   ]
  },
  {
   "cell_type": "code",
   "execution_count": 2,
   "id": "b2bfcdcf",
   "metadata": {},
   "outputs": [],
   "source": [
    "data = pd.read_csv(r\"C:\\Users\\Skill-Lync\\Downloads\\SMS_Dataset_ SPAM_Week 11.csv\")"
   ]
  },
  {
   "cell_type": "code",
   "execution_count": 3,
   "id": "c818c58f",
   "metadata": {},
   "outputs": [
    {
     "data": {
      "text/html": [
       "<div>\n",
       "<style scoped>\n",
       "    .dataframe tbody tr th:only-of-type {\n",
       "        vertical-align: middle;\n",
       "    }\n",
       "\n",
       "    .dataframe tbody tr th {\n",
       "        vertical-align: top;\n",
       "    }\n",
       "\n",
       "    .dataframe thead th {\n",
       "        text-align: right;\n",
       "    }\n",
       "</style>\n",
       "<table border=\"1\" class=\"dataframe\">\n",
       "  <thead>\n",
       "    <tr style=\"text-align: right;\">\n",
       "      <th></th>\n",
       "      <th>label</th>\n",
       "      <th>message</th>\n",
       "    </tr>\n",
       "  </thead>\n",
       "  <tbody>\n",
       "    <tr>\n",
       "      <th>0</th>\n",
       "      <td>ham</td>\n",
       "      <td>Go until jurong point, crazy.. Available only ...</td>\n",
       "    </tr>\n",
       "    <tr>\n",
       "      <th>1</th>\n",
       "      <td>ham</td>\n",
       "      <td>Ok lar... Joking wif u oni...</td>\n",
       "    </tr>\n",
       "    <tr>\n",
       "      <th>2</th>\n",
       "      <td>spam</td>\n",
       "      <td>Free entry in 2 a wkly comp to win FA Cup fina...</td>\n",
       "    </tr>\n",
       "    <tr>\n",
       "      <th>3</th>\n",
       "      <td>ham</td>\n",
       "      <td>U dun say so early hor... U c already then say...</td>\n",
       "    </tr>\n",
       "    <tr>\n",
       "      <th>4</th>\n",
       "      <td>ham</td>\n",
       "      <td>Nah I don't think he goes to usf, he lives aro...</td>\n",
       "    </tr>\n",
       "  </tbody>\n",
       "</table>\n",
       "</div>"
      ],
      "text/plain": [
       "  label                                            message\n",
       "0   ham  Go until jurong point, crazy.. Available only ...\n",
       "1   ham                      Ok lar... Joking wif u oni...\n",
       "2  spam  Free entry in 2 a wkly comp to win FA Cup fina...\n",
       "3   ham  U dun say so early hor... U c already then say...\n",
       "4   ham  Nah I don't think he goes to usf, he lives aro..."
      ]
     },
     "execution_count": 3,
     "metadata": {},
     "output_type": "execute_result"
    }
   ],
   "source": [
    "data.head()"
   ]
  },
  {
   "cell_type": "code",
   "execution_count": 4,
   "id": "27a98b80",
   "metadata": {},
   "outputs": [
    {
     "data": {
      "text/plain": [
       "(5572, 2)"
      ]
     },
     "execution_count": 4,
     "metadata": {},
     "output_type": "execute_result"
    }
   ],
   "source": [
    "data.shape"
   ]
  },
  {
   "cell_type": "code",
   "execution_count": 5,
   "id": "7de7e695",
   "metadata": {},
   "outputs": [
    {
     "data": {
      "text/plain": [
       "ham     4825\n",
       "spam     747\n",
       "Name: label, dtype: int64"
      ]
     },
     "execution_count": 5,
     "metadata": {},
     "output_type": "execute_result"
    }
   ],
   "source": [
    "data.label.value_counts()"
   ]
  },
  {
   "cell_type": "code",
   "execution_count": 6,
   "id": "1742ac07",
   "metadata": {},
   "outputs": [],
   "source": [
    "data.label = data.label.map({\"ham\":1,\"spam\":0})\n"
   ]
  },
  {
   "cell_type": "code",
   "execution_count": 7,
   "id": "1654737d",
   "metadata": {},
   "outputs": [
    {
     "data": {
      "text/plain": [
       "label      0\n",
       "message    0\n",
       "dtype: int64"
      ]
     },
     "execution_count": 7,
     "metadata": {},
     "output_type": "execute_result"
    }
   ],
   "source": [
    "data.isnull().sum()"
   ]
  },
  {
   "cell_type": "code",
   "execution_count": 8,
   "id": "e29eb20a",
   "metadata": {},
   "outputs": [],
   "source": [
    "import nltk\n",
    "import string\n",
    "from nltk.corpus import stopwords\n",
    "from nltk.stem import PorterStemmer,WordNetLemmatizer\n",
    "lm = WordNetLemmatizer()\n",
    "pt = PorterStemmer()"
   ]
  },
  {
   "cell_type": "markdown",
   "id": "baa3c376",
   "metadata": {},
   "source": [
    "### TEXT PREPROCCESSING\n",
    "\n",
    "1.  Lower case\n",
    "2.  Removing Puncuation and Digits\n",
    "3.  Spliting text\n",
    "4.  Lemmatizing and removing stop words\n"
   ]
  },
  {
   "cell_type": "code",
   "execution_count": 9,
   "id": "63a0324e",
   "metadata": {},
   "outputs": [],
   "source": [
    "stop_word = set(stopwords.words('english'))\n",
    "def remove_punct(text):\n",
    "    text = text.lower()\n",
    "    text = \"\".join([char for char in text if (char not in string.punctuation) and (char not in string.digits)])\n",
    "    text = text.split()\n",
    "    text2 = [lm.lemmatize(i) for i in text if i not in stop_word]\n",
    "    final_text = \" \".join(text2)\n",
    "    return final_text"
   ]
  },
  {
   "cell_type": "code",
   "execution_count": 10,
   "id": "16bf328f",
   "metadata": {},
   "outputs": [
    {
     "data": {
      "text/html": [
       "<div>\n",
       "<style scoped>\n",
       "    .dataframe tbody tr th:only-of-type {\n",
       "        vertical-align: middle;\n",
       "    }\n",
       "\n",
       "    .dataframe tbody tr th {\n",
       "        vertical-align: top;\n",
       "    }\n",
       "\n",
       "    .dataframe thead th {\n",
       "        text-align: right;\n",
       "    }\n",
       "</style>\n",
       "<table border=\"1\" class=\"dataframe\">\n",
       "  <thead>\n",
       "    <tr style=\"text-align: right;\">\n",
       "      <th></th>\n",
       "      <th>label</th>\n",
       "      <th>message</th>\n",
       "      <th>text_clean</th>\n",
       "    </tr>\n",
       "  </thead>\n",
       "  <tbody>\n",
       "    <tr>\n",
       "      <th>0</th>\n",
       "      <td>1</td>\n",
       "      <td>Go until jurong point, crazy.. Available only ...</td>\n",
       "      <td>go jurong point crazy available bugis n great ...</td>\n",
       "    </tr>\n",
       "    <tr>\n",
       "      <th>1</th>\n",
       "      <td>1</td>\n",
       "      <td>Ok lar... Joking wif u oni...</td>\n",
       "      <td>ok lar joking wif u oni</td>\n",
       "    </tr>\n",
       "    <tr>\n",
       "      <th>2</th>\n",
       "      <td>0</td>\n",
       "      <td>Free entry in 2 a wkly comp to win FA Cup fina...</td>\n",
       "      <td>free entry wkly comp win fa cup final tkts st ...</td>\n",
       "    </tr>\n",
       "    <tr>\n",
       "      <th>3</th>\n",
       "      <td>1</td>\n",
       "      <td>U dun say so early hor... U c already then say...</td>\n",
       "      <td>u dun say early hor u c already say</td>\n",
       "    </tr>\n",
       "    <tr>\n",
       "      <th>4</th>\n",
       "      <td>1</td>\n",
       "      <td>Nah I don't think he goes to usf, he lives aro...</td>\n",
       "      <td>nah dont think go usf life around though</td>\n",
       "    </tr>\n",
       "  </tbody>\n",
       "</table>\n",
       "</div>"
      ],
      "text/plain": [
       "   label                                            message  \\\n",
       "0      1  Go until jurong point, crazy.. Available only ...   \n",
       "1      1                      Ok lar... Joking wif u oni...   \n",
       "2      0  Free entry in 2 a wkly comp to win FA Cup fina...   \n",
       "3      1  U dun say so early hor... U c already then say...   \n",
       "4      1  Nah I don't think he goes to usf, he lives aro...   \n",
       "\n",
       "                                          text_clean  \n",
       "0  go jurong point crazy available bugis n great ...  \n",
       "1                            ok lar joking wif u oni  \n",
       "2  free entry wkly comp win fa cup final tkts st ...  \n",
       "3                u dun say early hor u c already say  \n",
       "4           nah dont think go usf life around though  "
      ]
     },
     "execution_count": 10,
     "metadata": {},
     "output_type": "execute_result"
    }
   ],
   "source": [
    "data['text_clean'] = data['message'].apply(lambda x: remove_punct(x))\n",
    "\n",
    "data.head()"
   ]
  },
  {
   "cell_type": "code",
   "execution_count": 11,
   "id": "0d0460f7",
   "metadata": {},
   "outputs": [],
   "source": [
    "x = data.text_clean\n",
    "y = data.label"
   ]
  },
  {
   "cell_type": "markdown",
   "id": "cfdc5596",
   "metadata": {},
   "source": [
    "### TOKENIZATION"
   ]
  },
  {
   "cell_type": "code",
   "execution_count": 12,
   "id": "47c8060b",
   "metadata": {},
   "outputs": [],
   "source": [
    "from keras_preprocessing.text import Tokenizer\n",
    "tokenizer = Tokenizer() #initializing the tokenizer\n",
    "tokenizer.fit_on_texts(x)\n",
    "text_to_sequence = tokenizer.texts_to_sequences(x) "
   ]
  },
  {
   "cell_type": "code",
   "execution_count": 13,
   "id": "0b034b8a",
   "metadata": {},
   "outputs": [
    {
     "name": "stdout",
     "output_type": "stream",
     "text": [
      "80\n",
      "8049\n"
     ]
    }
   ],
   "source": [
    "maxseqlen = max([len(i.split()) for i in x])\n",
    "input_dim = len(tokenizer.word_index)+1\n",
    "print(maxseqlen)\n",
    "print(input_dim)"
   ]
  },
  {
   "cell_type": "markdown",
   "id": "29d37984",
   "metadata": {},
   "source": [
    "### PAD SEQUENCES"
   ]
  },
  {
   "cell_type": "code",
   "execution_count": 15,
   "id": "7818766e",
   "metadata": {},
   "outputs": [],
   "source": [
    "from tensorflow.keras.preprocessing.sequence import pad_sequences"
   ]
  },
  {
   "cell_type": "code",
   "execution_count": 16,
   "id": "8cbc94d7",
   "metadata": {},
   "outputs": [
    {
     "data": {
      "text/plain": [
       "0       1\n",
       "1       1\n",
       "2       0\n",
       "3       1\n",
       "4       1\n",
       "       ..\n",
       "5567    0\n",
       "5568    1\n",
       "5569    1\n",
       "5570    1\n",
       "5571    1\n",
       "Name: label, Length: 5572, dtype: int64"
      ]
     },
     "execution_count": 16,
     "metadata": {},
     "output_type": "execute_result"
    }
   ],
   "source": [
    "x = pad_sequences(text_to_sequence, maxlen=maxseqlen, padding = \"pre\")\n",
    "y = y\n",
    "y"
   ]
  },
  {
   "cell_type": "code",
   "execution_count": 17,
   "id": "bf504ab0",
   "metadata": {},
   "outputs": [
    {
     "name": "stdout",
     "output_type": "stream",
     "text": [
      "(4179, 80) (4179,)\n",
      "(1393, 80) (1393,)\n"
     ]
    }
   ],
   "source": [
    "from sklearn.model_selection import train_test_split\n",
    "x_train,x_test,y_train,y_test=train_test_split(x,y,test_size=0.25)\n",
    "print(x_train.shape, y_train.shape)\n",
    "print(x_test.shape, y_test.shape)"
   ]
  },
  {
   "cell_type": "markdown",
   "id": "2e48b76b",
   "metadata": {},
   "source": [
    "### USING LSTM MODEL"
   ]
  },
  {
   "cell_type": "code",
   "execution_count": 18,
   "id": "499c4a7d",
   "metadata": {},
   "outputs": [
    {
     "name": "stdout",
     "output_type": "stream",
     "text": [
      "Model: \"sequential\"\n",
      "_________________________________________________________________\n",
      " Layer (type)                Output Shape              Param #   \n",
      "=================================================================\n",
      " embedding (Embedding)       (None, 80, 32)            257568    \n",
      "                                                                 \n",
      " lstm (LSTM)                 (None, 80, 128)           82432     \n",
      "                                                                 \n",
      " dropout (Dropout)           (None, 80, 128)           0         \n",
      "                                                                 \n",
      " dense (Dense)               (None, 80, 20)            2580      \n",
      "                                                                 \n",
      " dropout_1 (Dropout)         (None, 80, 20)            0         \n",
      "                                                                 \n",
      " dense_1 (Dense)             (None, 80, 1)             21        \n",
      "                                                                 \n",
      "=================================================================\n",
      "Total params: 342,601\n",
      "Trainable params: 342,601\n",
      "Non-trainable params: 0\n",
      "_________________________________________________________________\n"
     ]
    }
   ],
   "source": [
    "from tensorflow.keras.models import Sequential\n",
    "from tensorflow.keras.layers import LSTM, Dropout, Embedding, Dense, GlobalMaxPool1D\n",
    "from tensorflow.keras.optimizers import RMSprop\n",
    "from tensorflow.keras.callbacks import EarlyStopping\n",
    "\n",
    "\n",
    "model = Sequential()\n",
    "model.add(Embedding(input_dim = 8049, output_dim = 32, input_length = 80))\n",
    "model.add(LSTM((128), return_sequences = True))\n",
    "model.add(Dropout(0.4))\n",
    "model.add(Dense(20, activation='relu'))\n",
    "model.add(Dropout(0.4))\n",
    "model.add(Dense(1, activation='sigmoid'))\n",
    "\n",
    "\n",
    "\n",
    "model.compile(optimizer=\"adam\", loss='binary_crossentropy' ,metrics=['accuracy'])\n",
    "model.summary()"
   ]
  },
  {
   "cell_type": "code",
   "execution_count": 19,
   "id": "519cd71c",
   "metadata": {},
   "outputs": [
    {
     "name": "stdout",
     "output_type": "stream",
     "text": [
      "Epoch 1/30\n",
      "262/262 [==============================] - 26s 84ms/step - loss: 0.4143 - accuracy: 0.8706 - val_loss: 0.3562 - val_accuracy: 0.8857\n",
      "Epoch 2/30\n",
      "262/262 [==============================] - 19s 73ms/step - loss: 0.3714 - accuracy: 0.8838 - val_loss: 0.3484 - val_accuracy: 0.8874\n",
      "Epoch 3/30\n",
      "262/262 [==============================] - 19s 74ms/step - loss: 0.3605 - accuracy: 0.8859 - val_loss: 0.3513 - val_accuracy: 0.8881\n",
      "Epoch 4/30\n",
      "262/262 [==============================] - 20s 75ms/step - loss: 0.3591 - accuracy: 0.8867 - val_loss: 0.3426 - val_accuracy: 0.8883\n",
      "Epoch 5/30\n",
      "262/262 [==============================] - 20s 75ms/step - loss: 0.3530 - accuracy: 0.8876 - val_loss: 0.3466 - val_accuracy: 0.8887\n",
      "Epoch 6/30\n",
      "262/262 [==============================] - 20s 77ms/step - loss: 0.3499 - accuracy: 0.8880 - val_loss: 0.3422 - val_accuracy: 0.8888\n",
      "Epoch 7/30\n",
      "262/262 [==============================] - 20s 76ms/step - loss: 0.3493 - accuracy: 0.8882 - val_loss: 0.3501 - val_accuracy: 0.8886\n",
      "Epoch 8/30\n",
      "262/262 [==============================] - 20s 75ms/step - loss: 0.3472 - accuracy: 0.8883 - val_loss: 0.3445 - val_accuracy: 0.8886\n",
      "Epoch 9/30\n",
      "262/262 [==============================] - 20s 76ms/step - loss: 0.3456 - accuracy: 0.8884 - val_loss: 0.3478 - val_accuracy: 0.8885\n"
     ]
    }
   ],
   "source": [
    "import warnings\n",
    "warnings.filterwarnings('ignore')\n",
    "early_stop = EarlyStopping(monitor='val_loss', patience=3)\n",
    "history = model.fit(x_train, y_train,\n",
    "                    batch_size = 16,epochs =30 , validation_split=0.2,validation_data=(x_test,y_test),callbacks=early_stop)"
   ]
  },
  {
   "cell_type": "markdown",
   "id": "857fc31f",
   "metadata": {},
   "source": [
    "### ACCURACY VISUALIZATION OF LSTM"
   ]
  },
  {
   "cell_type": "code",
   "execution_count": 21,
   "id": "63507a24",
   "metadata": {},
   "outputs": [
    {
     "data": {
      "image/png": "[encoded data removed]",
      "text/plain": [
       "<Figure size 720x288 with 2 Axes>"
      ]
     },
     "metadata": {
      "needs_background": "light"
     },
     "output_type": "display_data"
    }
   ],
   "source": [
    "from matplotlib import pyplot as plt\n",
    "def plot_training_hist(history):\n",
    "    '''Function to plot history for accuracy and loss'''\n",
    "    \n",
    "    fig, ax = plt.subplots(1, 2, figsize=(10,4))\n",
    "    \n",
    "    # first plot\n",
    "    ax[0].plot(history.history['accuracy'])\n",
    "    ax[0].plot(history.history['val_accuracy'])\n",
    "    ax[0].set_title('Model Accuracy')\n",
    "    ax[0].set_xlabel('epoch')\n",
    "    ax[0].set_ylabel('accuracy')\n",
    "    ax[0].legend(['train', 'validation'], loc='best')\n",
    "    \n",
    "    # second plot\n",
    "    ax[1].plot(history.history['loss'])\n",
    "    ax[1].plot(history.history['val_loss'])\n",
    "    ax[1].set_title('Model Loss')\n",
    "    ax[1].set_xlabel('epoch')\n",
    "    ax[1].set_ylabel('loss')\n",
    "    ax[1].legend(['train', 'validation'], loc='best')\n",
    "    \n",
    "plot_training_hist(history)"
   ]
  },
  {
   "cell_type": "markdown",
   "id": "e7334c8e",
   "metadata": {},
   "source": [
    "### BI-DIRECTIONAL MODEL"
   ]
  },
  {
   "cell_type": "code",
   "execution_count": 22,
   "id": "9c444c23",
   "metadata": {},
   "outputs": [],
   "source": [
    "from tensorflow.keras.layers import Bidirectional\n",
    "\n",
    "model2 = Sequential()\n",
    "model2.add(Embedding(input_dim =input_dim, output_dim = 32, input_length = maxseqlen))\n",
    "model2.add(Bidirectional(LSTM((128), return_sequences = True)))\n",
    "model2.add(Dropout(0.4))\n",
    "model2.add(Dense(20, activation='relu'))\n",
    "model2.add(Dropout(0.4))\n",
    "model2.add(Dense(1, activation='sigmoid'))\n"
   ]
  },
  {
   "cell_type": "code",
   "execution_count": 23,
   "id": "2417d262",
   "metadata": {},
   "outputs": [],
   "source": [
    "model2.compile(loss = 'binary_crossentropy',\n",
    "               optimizer = 'adam',\n",
    "               metrics=['accuracy'])"
   ]
  },
  {
   "cell_type": "code",
   "execution_count": 24,
   "id": "79527564",
   "metadata": {},
   "outputs": [
    {
     "name": "stdout",
     "output_type": "stream",
     "text": [
      "Epoch 1/30\n",
      "262/262 [==============================] - 37s 119ms/step - loss: 0.2475 - accuracy: 0.9324 - val_loss: 0.1216 - val_accuracy: 0.9643\n",
      "Epoch 2/30\n",
      "262/262 [==============================] - 28s 108ms/step - loss: 0.0999 - accuracy: 0.9802 - val_loss: 0.1058 - val_accuracy: 0.9676\n",
      "Epoch 3/30\n",
      "262/262 [==============================] - 28s 108ms/step - loss: 0.0530 - accuracy: 0.9911 - val_loss: 0.1356 - val_accuracy: 0.9709\n",
      "Epoch 4/30\n",
      "262/262 [==============================] - 30s 114ms/step - loss: 0.0374 - accuracy: 0.9944 - val_loss: 0.1153 - val_accuracy: 0.9841\n",
      "Epoch 5/30\n",
      "262/262 [==============================] - 31s 117ms/step - loss: 0.0270 - accuracy: 0.9966 - val_loss: 0.1040 - val_accuracy: 0.9867\n",
      "Epoch 6/30\n",
      "262/262 [==============================] - 29s 111ms/step - loss: 0.0196 - accuracy: 0.9974 - val_loss: 0.1287 - val_accuracy: 0.9804\n",
      "Epoch 7/30\n",
      "262/262 [==============================] - 29s 110ms/step - loss: 0.0147 - accuracy: 0.9983 - val_loss: 0.1438 - val_accuracy: 0.9818\n",
      "Epoch 8/30\n",
      "262/262 [==============================] - 29s 110ms/step - loss: 0.0046 - accuracy: 0.9994 - val_loss: 0.2017 - val_accuracy: 0.9805\n"
     ]
    }
   ],
   "source": [
    "import warnings\n",
    "warnings.filterwarnings('ignore')\n",
    "history2 = model2.fit(x_train,y_train,epochs =30,batch_size = 16, validation_split=0.2,validation_data=(x_test,y_test),\n",
    "                     callbacks=early_stop)"
   ]
  },
  {
   "cell_type": "markdown",
   "id": "24815de1",
   "metadata": {},
   "source": [
    "### VISUALIZATION OF ACCURACY OF BI-DIRECTIONAL"
   ]
  },
  {
   "cell_type": "code",
   "execution_count": 27,
   "id": "4354fa82",
   "metadata": {},
   "outputs": [
    {
     "data": {
      "image/png": "[encoded data removed]",
      "text/plain": [
       "<Figure size 720x288 with 2 Axes>"
      ]
     },
     "metadata": {
      "needs_background": "light"
     },
     "output_type": "display_data"
    }
   ],
   "source": [
    "from matplotlib import pyplot as plt\n",
    "def plot_training_hist(history):\n",
    "    '''Function to plot history for accuracy and loss'''\n",
    "    \n",
    "    fig, ax = plt.subplots(1, 2, figsize=(10,4))\n",
    "    \n",
    "    # first plot\n",
    "    ax[0].plot(history.history['accuracy'])\n",
    "    ax[0].plot(history.history['val_accuracy'])\n",
    "    ax[0].set_title('Model Accuracy')\n",
    "    ax[0].set_xlabel('epoch')\n",
    "    ax[0].set_ylabel('accuracy')\n",
    "    ax[0].legend(['train', 'validation'], loc='best')\n",
    "    \n",
    "    # second plot\n",
    "    ax[1].plot(history.history['loss'])\n",
    "    ax[1].plot(history.history['val_loss'])\n",
    "    ax[1].set_title('Model Loss')\n",
    "    ax[1].set_xlabel('epoch')\n",
    "    ax[1].set_ylabel('loss')\n",
    "    ax[1].legend(['train', 'validation'], loc='best')\n",
    "    \n",
    "plot_training_hist(history)"
   ]
  },
  {
   "cell_type": "markdown",
   "id": "04cc2dec",
   "metadata": {},
   "source": [
    "### SIMPLE DENSE MODEL"
   ]
  },
  {
   "cell_type": "code",
   "execution_count": 55,
   "id": "589e6a26",
   "metadata": {},
   "outputs": [],
   "source": [
    "model3 = Sequential()\n",
    "model3.add(Embedding(input_dim= input_dim,output_dim=32,\n",
    "                    input_length = maxseqlen))\n",
    "model3.add(Dense(24, activation='relu'))\n",
    "model3.add(Dropout(0.4))\n",
    "model3.add(Dense(1, activation='sigmoid'))"
   ]
  },
  {
   "cell_type": "code",
   "execution_count": 56,
   "id": "9929b547",
   "metadata": {},
   "outputs": [],
   "source": [
    "model3.compile(loss = 'binary_crossentropy',\n",
    "               optimizer = 'adam',\n",
    "               metrics=['accuracy'])"
   ]
  },
  {
   "cell_type": "code",
   "execution_count": 57,
   "id": "b1f21eb7",
   "metadata": {},
   "outputs": [
    {
     "name": "stdout",
     "output_type": "stream",
     "text": [
      "Epoch 1/30\n",
      "WARNING:tensorflow:Model was constructed with shape (None, 1) for input KerasTensor(type_spec=TensorSpec(shape=(None, 1), dtype=tf.float32, name='embedding_6_input'), name='embedding_6_input', description=\"created by layer 'embedding_6_input'\"), but it was called on an input with incompatible shape (None, 50).\n",
      "WARNING:tensorflow:Model was constructed with shape (None, 1) for input KerasTensor(type_spec=TensorSpec(shape=(None, 1), dtype=tf.float32, name='embedding_6_input'), name='embedding_6_input', description=\"created by layer 'embedding_6_input'\"), but it was called on an input with incompatible shape (None, 50).\n",
      "252/262 [===========================>..] - ETA: 0s - loss: 0.4772 - accuracy: 0.8618WARNING:tensorflow:Model was constructed with shape (None, 1) for input KerasTensor(type_spec=TensorSpec(shape=(None, 1), dtype=tf.float32, name='embedding_6_input'), name='embedding_6_input', description=\"created by layer 'embedding_6_input'\"), but it was called on an input with incompatible shape (None, 50).\n",
      "262/262 [==============================] - 3s 6ms/step - loss: 0.4754 - accuracy: 0.8617 - val_loss: 0.3905 - val_accuracy: 0.8686\n",
      "Epoch 2/30\n",
      "262/262 [==============================] - 1s 5ms/step - loss: 0.4100 - accuracy: 0.8650 - val_loss: 0.3909 - val_accuracy: 0.8686\n",
      "Epoch 3/30\n",
      "262/262 [==============================] - 1s 5ms/step - loss: 0.4057 - accuracy: 0.8659 - val_loss: 0.3920 - val_accuracy: 0.8693\n",
      "Epoch 4/30\n",
      "262/262 [==============================] - 2s 6ms/step - loss: 0.4028 - accuracy: 0.8676 - val_loss: 0.3942 - val_accuracy: 0.8638\n"
     ]
    }
   ],
   "source": [
    "import warnings\n",
    "warnings.filterwarnings('ignore')\n",
    "history3 = model3.fit(x_train,y_train,epochs =30,batch_size = 16, validation_split=0.2,validation_data=(x_test,y_test),\n",
    "                     callbacks=early_stop)"
   ]
  },
  {
   "cell_type": "markdown",
   "id": "ccd41176",
   "metadata": {},
   "source": [
    "### ACCURACY GRAPH OF DENSE MODEL"
   ]
  },
  {
   "cell_type": "code",
   "execution_count": 65,
   "id": "6fa3e5db",
   "metadata": {},
   "outputs": [
    {
     "data": {
      "image/png": "[encoded data removed]",
      "text/plain": [
       "<Figure size 360x360 with 1 Axes>"
      ]
     },
     "metadata": {
      "needs_background": "light"
     },
     "output_type": "display_data"
    },
    {
     "data": {
      "image/png": "[encoded data removed]",
      "text/plain": [
       "<Figure size 360x360 with 1 Axes>"
      ]
     },
     "metadata": {
      "needs_background": "light"
     },
     "output_type": "display_data"
    }
   ],
   "source": [
    "import matplotlib.pyplot as plt\n",
    "plt.figure(figsize=(5,5))\n",
    "plt.plot (history3.history['accuracy'])\n",
    "plt.plot (history3.history['val_accuracy'])\n",
    "plt.title('model accuracy')\n",
    "plt.ylabel('accuracy')\n",
    "plt.xlabel('epoch')\n",
    "plt.legend(['acc', 'val_acc'], loc='upper left')\n",
    "plt.show()"
   ]
  },
  {
   "cell_type": "code",
   "execution_count": 38,
   "id": "99861905",
   "metadata": {},
   "outputs": [
    {
     "name": "stdout",
     "output_type": "stream",
     "text": [
      "Enter the messagejhj,kljkjkl\n",
      "1/1 [==============================] - 0s 47ms/step\n",
      "check inbox\n"
     ]
    }
   ],
   "source": [
    "message = input(\"Enter the message\")\n",
    "\n",
    "text_to_sequence = tokenizer.texts_to_sequences(message) \n",
    "message= pad_sequences(text_to_sequence, maxlen=maxseqlen, padding = \"pre\")\n",
    "pred = model2.predict(message)\n",
    "if (pred.all()==0):\n",
    "    print(\"message will go to spam\")\n",
    "else:\n",
    "    print(\"check inbox\")\n"
   ]
  },
  {
   "cell_type": "code",
   "execution_count": null,
   "id": "c45aae89",
   "metadata": {},
   "outputs": [],
   "source": []
  }
 ],
 "metadata": {
  "kernelspec": {
   "display_name": "Python 3 (ipykernel)",
   "language": "python",
   "name": "python3"
  },
  "language_info": {
   "codemirror_mode": {
    "name": "ipython",
    "version": 3
   },
   "file_extension": ".py",
   "mimetype": "text/x-python",
   "name": "python",
   "nbconvert_exporter": "python",
   "pygments_lexer": "ipython3",
   "version": "3.9.12"
  }
 },
 "nbformat": 4,
 "nbformat_minor": 5
}
